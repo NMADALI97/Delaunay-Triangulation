{
  "nbformat": 4,
  "nbformat_minor": 0,
  "metadata": {
    "colab": {
      "name": "Delaunay triangulation.ipynb",
      "provenance": []
    },
    "kernelspec": {
      "name": "python3",
      "display_name": "Python 3"
    }
  },
  "cells": [
    {
      "cell_type": "code",
      "metadata": {
        "id": "2jff8iILINHT",
        "colab_type": "code",
        "colab": {}
      },
      "source": [
        "import numpy as np"
      ],
      "execution_count": null,
      "outputs": []
    },
    {
      "cell_type": "code",
      "metadata": {
        "id": "GHqttfw0IgfI",
        "colab_type": "code",
        "colab": {}
      },
      "source": [
        "numSeeds = 24\n",
        "radius = 100\n",
        "seeds = radius * np.random.random((numSeeds, 2))\n",
        "print(\"seeds:\\n\", seeds)\n",
        "print(\"BBox Min:\", np.amin(seeds, axis=0),\"Bbox Max: \", np.amax(seeds, axis=0))"
      ],
      "execution_count": null,
      "outputs": []
    },
    {
      "cell_type": "code",
      "metadata": {
        "id": "SmUfCgiVJGoA",
        "colab_type": "code",
        "colab": {
          "base_uri": "https://localhost:8080/",
          "height": 34
        },
        "outputId": "25c92dc1-8ef4-4520-9a55-88ff8534564b"
      },
      "source": [
        "center = np.mean(seeds, axis=0)\n",
        "print(\"Center:\", center)"
      ],
      "execution_count": null,
      "outputs": [
        {
          "output_type": "stream",
          "text": [
            "Center: [54.41064189 56.10041745]\n"
          ],
          "name": "stdout"
        }
      ]
    },
    {
      "cell_type": "code",
      "metadata": {
        "id": "gH_67BDAJXBC",
        "colab_type": "code",
        "colab": {}
      },
      "source": [
        "center = np.asarray(center)\n",
        "# Create coordinates for the corners of the frame\n",
        "coords = [center+radius*np.array((-1, -1)),center+radius*np.array((+1, -1)),center+radius*np.array((+1, +1)),center+radius*np.array((-1, +1))]"
      ],
      "execution_count": null,
      "outputs": []
    },
    {
      "cell_type": "code",
      "metadata": {
        "id": "YPwURpndJwW3",
        "colab_type": "code",
        "colab": {
          "base_uri": "https://localhost:8080/",
          "height": 282
        },
        "outputId": "f788966c-a64b-4aa6-c0f6-471bd3b2d367"
      },
      "source": [
        "import matplotlib.pyplot as plt\n",
        "import matplotlib.tri\n",
        "import matplotlib.collections\n",
        "\n",
        "fig, ax = plt.subplots()\n",
        "ax.scatter(seeds[:,0], seeds[:,1], c=\"green\")\n",
        "ax.scatter(np.array(coords)[:,0], np.array(coords)[:,1], c=\"blue\")\n",
        "ax.scatter(center[0], center[1], c=\"red\")\n",
        "\n",
        "ax.legend()\n",
        "ax.grid(True)\n",
        "\n",
        "plt.show()"
      ],
      "execution_count": null,
      "outputs": [
        {
          "output_type": "stream",
          "text": [
            "No handles with labels found to put in legend.\n"
          ],
          "name": "stderr"
        },
        {
          "output_type": "display_data",
          "data": {
            "image/png": "[encoded data removed]",
            "text/plain": [
              "<Figure size 432x288 with 1 Axes>"
            ]
          },
          "metadata": {
            "tags": [],
            "needs_background": "light"
          }
        }
      ]
    },
    {
      "cell_type": "code",
      "metadata": {
        "id": "Lh7om_icMvBz",
        "colab_type": "code",
        "colab": {}
      },
      "source": [
        "def circumcenter( tri):\n",
        "        \"\"\"Compute circumcenter and circumradius of a triangle in 2D.\n",
        "        Uses an extension of the method described here:\n",
        "        http://www.ics.uci.edu/~eppstein/junkyard/circumcenter.html\n",
        "        \"\"\"\n",
        "        pts = np.asarray([coords[v] for v in tri])\n",
        "        pts2 = np.dot(pts, pts.T)\n",
        "        A = np.bmat([[2 * pts2, [[1],\n",
        "                                 [1],\n",
        "                                 [1]]],\n",
        "                      [[[1, 1, 1, 0]]]])\n",
        "\n",
        "        b = np.hstack((np.sum(pts * pts, axis=1), [1]))\n",
        "        x = np.linalg.solve(A, b)\n",
        "        bary_coords = x[:-1]\n",
        "        center = np.dot(bary_coords, pts)\n",
        "\n",
        "        # radius = np.linalg.norm(pts[0] - center) # euclidean distance\n",
        "        radius = np.sum(np.square(pts[0] - center))  # squared distance\n",
        "        return (center, radius)"
      ],
      "execution_count": null,
      "outputs": []
    },
    {
      "cell_type": "code",
      "metadata": {
        "id": "Y7dM9ca-K5Xx",
        "colab_type": "code",
        "colab": {}
      },
      "source": [
        "# Create two dicts to store triangle neighbours and circumcircles.\n",
        "triangles = {}\n",
        "circles = {}\n",
        "\n",
        "# Create two CCW triangles for the frame\n",
        "T1 = (0, 1, 3)\n",
        "T2 = (2, 3, 1)\n",
        "triangles[T1] = [T2, None, None]\n",
        "triangles[T2] = [T1, None, None]\n"
      ],
      "execution_count": null,
      "outputs": []
    },
    {
      "cell_type": "code",
      "metadata": {
        "id": "6MeVjycyRkQw",
        "colab_type": "code",
        "colab": {}
      },
      "source": [
        "def inCircleFast( tri, p):\n",
        "        \"\"\"Check if point p is inside of precomputed circumcircle of tri.\n",
        "        \"\"\"\n",
        "        center, radius = circles[tri]\n",
        "        return np.sum(np.square(center - p)) <= radius"
      ],
      "execution_count": null,
      "outputs": []
    },
    {
      "cell_type": "code",
      "metadata": {
        "id": "zgiQ4tENNv42",
        "colab_type": "code",
        "colab": {}
      },
      "source": [
        "# Compute circumcenters and circumradius for each triangle\n",
        "for t in triangles:\n",
        "            circles[t] = circumcenter(t)"
      ],
      "execution_count": null,
      "outputs": []
    },
    {
      "cell_type": "code",
      "metadata": {
        "id": "WRAquzgiRzgM",
        "colab_type": "code",
        "colab": {}
      },
      "source": [
        "def addPoint(p):\n",
        "        \"\"\"Add a point to the current DT, and refine it using Bowyer-Watson.\n",
        "        \"\"\"\n",
        "        p = np.asarray(p)\n",
        "        idx = len(coords)\n",
        "        # print(\"coords[\", idx,\"] ->\",p)\n",
        "        coords.append(p)\n",
        "\n",
        "        # Search the triangle(s) whose circumcircle contains p\n",
        "        bad_triangles = []\n",
        "        for T in triangles:\n",
        "            # Choose one method: inCircleRobust(T, p) or inCircleFast(T, p)\n",
        "            if inCircleFast(T, p):\n",
        "                bad_triangles.append(T)\n",
        "\n",
        "        # Find the CCW boundary (star shape) of the bad triangles,\n",
        "        # expressed as a list of edges (point pairs) and the opposite\n",
        "        # triangle to each edge.\n",
        "        boundary = []\n",
        "        # Choose a \"random\" triangle and edge\n",
        "        T = bad_triangles[0]\n",
        "        edge = 0\n",
        "        # get the opposite triangle of this edge\n",
        "        while True:\n",
        "            # Check if edge of triangle T is on the boundary...\n",
        "            # if opposite triangle of this edge is external to the list\n",
        "            tri_op = triangles[T][edge]\n",
        "            if tri_op not in bad_triangles:\n",
        "                # Insert edge and external triangle into boundary list\n",
        "                boundary.append((T[(edge+1) % 3], T[(edge-1) % 3], tri_op))\n",
        "\n",
        "                # Move to next CCW edge in this triangle\n",
        "                edge = (edge + 1) % 3\n",
        "\n",
        "                # Check if boundary is a closed loop\n",
        "                if boundary[0][0] == boundary[-1][1]:\n",
        "                    break\n",
        "            else:\n",
        "                # Move to next CCW edge in opposite triangle\n",
        "                edge = (triangles[tri_op].index(T) + 1) % 3\n",
        "                T = tri_op\n",
        "\n",
        "        # Remove triangles too near of point p of our solution\n",
        "        for T in bad_triangles:\n",
        "            del triangles[T]\n",
        "            del circles[T]\n",
        "\n",
        "        # Retriangle the hole left by bad_triangles\n",
        "        new_triangles = []\n",
        "        for (e0, e1, tri_op) in boundary:\n",
        "            # Create a new triangle using point p and edge extremes\n",
        "            T = (idx, e0, e1)\n",
        "\n",
        "            # Store circumcenter and circumradius of the triangle\n",
        "            circles[T] = circumcenter(T)\n",
        "\n",
        "            # Set opposite triangle of the edge as neighbour of T\n",
        "            triangles[T] = [tri_op, None, None]\n",
        "\n",
        "            # Try to set T as neighbour of the opposite triangle\n",
        "            if tri_op:\n",
        "                # search the neighbour of tri_op that use edge (e1, e0)\n",
        "                for i, neigh in enumerate(triangles[tri_op]):\n",
        "                    if neigh:\n",
        "                        if e1 in neigh and e0 in neigh:\n",
        "                            # change link to use our new triangle\n",
        "                            triangles[tri_op][i] = T\n",
        "\n",
        "            # Add triangle to a temporal list\n",
        "            new_triangles.append(T)\n",
        "\n",
        "        # Link the new triangles each another\n",
        "        N = len(new_triangles)\n",
        "        for i, T in enumerate(new_triangles):\n",
        "            triangles[T][1] = new_triangles[(i+1) % N]   # next\n",
        "            triangles[T][2] = new_triangles[(i-1) % N]   # previous"
      ],
      "execution_count": null,
      "outputs": []
    },
    {
      "cell_type": "code",
      "metadata": {
        "id": "FWo6Rtrahcrz",
        "colab_type": "code",
        "colab": {}
      },
      "source": [
        "# Insert all seeds one by one\n",
        "for s in seeds:\n",
        "        addPoint(s)\n"
      ],
      "execution_count": null,
      "outputs": []
    },
    {
      "cell_type": "code",
      "metadata": {
        "id": "GobAPoyRjJoQ",
        "colab_type": "code",
        "colab": {
          "base_uri": "https://localhost:8080/",
          "height": 301
        },
        "outputId": "18864540-d685-4a78-a1f7-555fbab18b63"
      },
      "source": [
        "\n",
        "# Create a plot with matplotlib.pyplot\n",
        "fig, ax = plt.subplots()\n",
        "ax.margins(0.1)\n",
        "ax.set_aspect('equal')\n",
        "plt.axis([-1, radius+1, -1, radius+1])\n",
        "\n",
        "# Plot our Delaunay triangulation (plot in blue)\n",
        "cx, cy = zip(*seeds)\n",
        "dt_tris = [(a-4, b-4, c-4) for (a, b, c) in triangles if a > 3 and b > 3 and c > 3]\n",
        "ax.triplot(matplotlib.tri.Triangulation(cx, cy, dt_tris), 'bo--')"
      ],
      "execution_count": null,
      "outputs": [
        {
          "output_type": "execute_result",
          "data": {
            "text/plain": [
              "[<matplotlib.lines.Line2D at 0x7f7867dc8c18>,\n",
              " <matplotlib.lines.Line2D at 0x7f7868343b38>]"
            ]
          },
          "metadata": {
            "tags": []
          },
          "execution_count": 18
        },
        {
          "output_type": "display_data",
          "data": {
            "image/png": "[encoded data removed]",
            "text/plain": [
              "<Figure size 432x288 with 1 Axes>"
            ]
          },
          "metadata": {
            "tags": [],
            "needs_background": "light"
          }
        }
      ]
    }
  ]
}
